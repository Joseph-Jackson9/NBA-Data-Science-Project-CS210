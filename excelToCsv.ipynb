{
 "cells": [
  {
   "cell_type": "code",
   "execution_count": 1,
   "metadata": {},
   "outputs": [
    {
     "name": "stdout",
     "output_type": "stream",
     "text": [
      "Excel file has been converted to nba_data.csv\n"
     ]
    }
   ],
   "source": [
    "import pandas as pd\n",
    "\n",
    "# Define the path to the Excel file\n",
    "excel_file = 'nba_player_data.xlsx'\n",
    "\n",
    "# Read the Excel file\n",
    "df = pd.read_excel(excel_file)\n",
    "\n",
    "# Define the path to the output CSV file\n",
    "csv_file = 'nba_data.csv'\n",
    "\n",
    "# Write the DataFrame to a CSV file\n",
    "df.to_csv(csv_file, index=False)\n",
    "\n",
    "# Print confirmation\n",
    "print(f\"Excel file has been converted to {csv_file}\")"
   ]
  }
 ],
 "metadata": {
  "kernelspec": {
   "display_name": "Python 3.11.5 ('base')",
   "language": "python",
   "name": "python3"
  },
  "language_info": {
   "codemirror_mode": {
    "name": "ipython",
    "version": 3
   },
   "file_extension": ".py",
   "mimetype": "text/x-python",
   "name": "python",
   "nbconvert_exporter": "python",
   "pygments_lexer": "ipython3",
   "version": "3.11.5"
  },
  "orig_nbformat": 4,
  "vscode": {
   "interpreter": {
    "hash": "7c145f56c240d6b320afae7afb9a9aa6917fabadc27f6610addd07a0c1e73ca3"
   }
  }
 },
 "nbformat": 4,
 "nbformat_minor": 2
}
